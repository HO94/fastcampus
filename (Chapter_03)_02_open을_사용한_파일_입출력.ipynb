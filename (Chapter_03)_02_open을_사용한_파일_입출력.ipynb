{
  "nbformat": 4,
  "nbformat_minor": 0,
  "metadata": {
    "kernelspec": {
      "display_name": "Python 3",
      "language": "python",
      "name": "python3"
    },
    "language_info": {
      "codemirror_mode": {
        "name": "ipython",
        "version": 3
      },
      "file_extension": ".py",
      "mimetype": "text/x-python",
      "name": "python",
      "nbconvert_exporter": "python",
      "pygments_lexer": "ipython3",
      "version": "3.8.3"
    },
    "colab": {
      "name": "(Chapter 03) 02. open을 사용한 파일 입출력.ipynb",
      "provenance": [],
      "include_colab_link": true
    }
  },
  "cells": [
    {
      "cell_type": "markdown",
      "metadata": {
        "id": "view-in-github",
        "colab_type": "text"
      },
      "source": [
        "<a href=\"https://colab.research.google.com/github/HO94/fastcampus/blob/main/(Chapter_03)_02_open%EC%9D%84_%EC%82%AC%EC%9A%A9%ED%95%9C_%ED%8C%8C%EC%9D%BC_%EC%9E%85%EC%B6%9C%EB%A0%A5.ipynb\" target=\"_parent\"><img src=\"https://colab.research.google.com/assets/colab-badge.svg\" alt=\"Open In Colab\"/></a>"
      ]
    },
    {
      "cell_type": "code",
      "metadata": {
        "id": "EXLKR11HT2Aa"
      },
      "source": [
        "import os\n",
        "os.chdir(r\"C:\\fastcampus\\part-1.-데이터-핸들링\\1. 데이터 핸들링\\데이터\")"
      ],
      "execution_count": null,
      "outputs": []
    },
    {
      "cell_type": "markdown",
      "metadata": {
        "id": "J9EdJp-AT2Af"
      },
      "source": [
        "#### read()를 이용한 데이터 불러오기"
      ]
    },
    {
      "cell_type": "code",
      "metadata": {
        "id": "SKYW_BO1T2Af",
        "outputId": "92e88278-88f3-43d0-f832-8c68685ae2ee"
      },
      "source": [
        "f = open(\"data_reading.csv\", \"r\")\n",
        "data = f.read() \n",
        "f.close()\n",
        "data[:1000]"
      ],
      "execution_count": null,
      "outputs": [
        {
          "output_type": "execute_result",
          "data": {
            "text/plain": [
              "'Col1,Col2,Col3,Col4,Col5\\n0.18888809146420238,0.16105292892696288,0.1504127702525998,0.8247702147554103,0.11183287230275862\\n0.8277194258724868,0.16136254345104883,0.400331159000502,0.3981961133865768,0.7706960076672201\\n0.844660181886513,0.10099782620549302,0.995176205519609,0.6155252896856449,0.8783894199796791\\n0.9138952685419564,0.036168779255092876,0.2378403402407797,0.18762834416630736,0.5343081969025114\\n0.32244342400394976,0.9550099806308116,0.3407646382285975,0.6493109172840262,0.35453974816238576\\n0.3306251110157733,0.6720388851049659,0.10938064887311616,0.07568233209352304,0.9169313724492655\\n0.24768623373487852,0.6864049104199853,0.7279423564551321,0.07051655013435276,0.5932367728578449\\n0.5457259900662517,0.8259997208239563,0.222939569582428,0.5272524587280554,0.9494463062496303\\n0.45737316471560596,0.6199415331357327,0.9979776426734485,0.3682306861093537,0.41162690950241676\\n0.8637387893511083,0.685755037957085,0.7069687998728162,0.7456995967962297,0.2888004054518888\\n0.673202517826'"
            ]
          },
          "metadata": {
            "tags": []
          },
          "execution_count": 2
        }
      ]
    },
    {
      "cell_type": "code",
      "metadata": {
        "id": "xYyUcDDCT2Ag",
        "outputId": "7f54311f-358f-4838-bb50-aaee30d5de35"
      },
      "source": [
        "new_data = []\n",
        "for line in data.split('\\n'):\n",
        "    new_line = []\n",
        "    for value in line.split(','):\n",
        "        new_line.append(make_float(value))\n",
        "    new_data.append(new_line)"
      ],
      "execution_count": null,
      "outputs": [
        {
          "output_type": "error",
          "ename": "NameError",
          "evalue": "name 'make_float' is not defined",
          "traceback": [
            "\u001b[1;31m---------------------------------------------------------------------------\u001b[0m",
            "\u001b[1;31mNameError\u001b[0m                                 Traceback (most recent call last)",
            "\u001b[1;32m<ipython-input-3-00f7d3c70ae2>\u001b[0m in \u001b[0;36m<module>\u001b[1;34m\u001b[0m\n\u001b[0;32m      3\u001b[0m     \u001b[0mnew_line\u001b[0m \u001b[1;33m=\u001b[0m \u001b[1;33m[\u001b[0m\u001b[1;33m]\u001b[0m\u001b[1;33m\u001b[0m\u001b[1;33m\u001b[0m\u001b[0m\n\u001b[0;32m      4\u001b[0m     \u001b[1;32mfor\u001b[0m \u001b[0mvalue\u001b[0m \u001b[1;32min\u001b[0m \u001b[0mline\u001b[0m\u001b[1;33m.\u001b[0m\u001b[0msplit\u001b[0m\u001b[1;33m(\u001b[0m\u001b[1;34m','\u001b[0m\u001b[1;33m)\u001b[0m\u001b[1;33m:\u001b[0m\u001b[1;33m\u001b[0m\u001b[1;33m\u001b[0m\u001b[0m\n\u001b[1;32m----> 5\u001b[1;33m         \u001b[0mnew_line\u001b[0m\u001b[1;33m.\u001b[0m\u001b[0mappend\u001b[0m\u001b[1;33m(\u001b[0m\u001b[0mmake_float\u001b[0m\u001b[1;33m(\u001b[0m\u001b[0mvalue\u001b[0m\u001b[1;33m)\u001b[0m\u001b[1;33m)\u001b[0m\u001b[1;33m\u001b[0m\u001b[1;33m\u001b[0m\u001b[0m\n\u001b[0m\u001b[0;32m      6\u001b[0m     \u001b[0mnew_data\u001b[0m\u001b[1;33m.\u001b[0m\u001b[0mappend\u001b[0m\u001b[1;33m(\u001b[0m\u001b[0mnew_line\u001b[0m\u001b[1;33m)\u001b[0m\u001b[1;33m\u001b[0m\u001b[1;33m\u001b[0m\u001b[0m\n",
            "\u001b[1;31mNameError\u001b[0m: name 'make_float' is not defined"
          ]
        }
      ]
    },
    {
      "cell_type": "markdown",
      "metadata": {
        "id": "cO8pXe0TT2Ah"
      },
      "source": [
        "#### readline을 이용한 데이터 불러오기"
      ]
    },
    {
      "cell_type": "code",
      "metadata": {
        "id": "akJ42inMT2Ah"
      },
      "source": [
        "f = open(\"data_reading.csv\", \"r\")\n",
        "header = f.readline() # 첫 번째 row를 읽어옴\n",
        "data = []\n",
        "\n",
        "line = f.readline() # 두 번째 row를 읽음\n",
        "while line: # line이 빈 문자열이 될 때까지\n",
        "    data.append(list(map(float, line.split(','))))\n",
        "    line = f.readline()\n",
        "f.close()"
      ],
      "execution_count": null,
      "outputs": []
    },
    {
      "cell_type": "code",
      "metadata": {
        "id": "XwNeL7g2T2Ah",
        "outputId": "d9f9a981-7dc5-483b-f5fe-c96ae0294ee5"
      },
      "source": [
        "header"
      ],
      "execution_count": null,
      "outputs": [
        {
          "output_type": "execute_result",
          "data": {
            "text/plain": [
              "'Col1,Col2,Col3,Col4,Col5\\n'"
            ]
          },
          "metadata": {
            "tags": []
          },
          "execution_count": 5
        }
      ]
    },
    {
      "cell_type": "code",
      "metadata": {
        "id": "66GdbRbgT2Ah",
        "outputId": "d13097d2-7b62-4a33-cf8f-1d29afe3daf0"
      },
      "source": [
        "data[:2]"
      ],
      "execution_count": null,
      "outputs": [
        {
          "output_type": "execute_result",
          "data": {
            "text/plain": [
              "[[0.18888809146420238,\n",
              "  0.16105292892696288,\n",
              "  0.1504127702525998,\n",
              "  0.8247702147554103,\n",
              "  0.11183287230275862],\n",
              " [0.8277194258724868,\n",
              "  0.16136254345104883,\n",
              "  0.400331159000502,\n",
              "  0.3981961133865768,\n",
              "  0.7706960076672201]]"
            ]
          },
          "metadata": {
            "tags": []
          },
          "execution_count": 6
        }
      ]
    },
    {
      "cell_type": "markdown",
      "metadata": {
        "id": "s-lhdHTFT2Ai"
      },
      "source": [
        "#### write를 이용한 데이터 쓰기"
      ]
    },
    {
      "cell_type": "code",
      "metadata": {
        "id": "j3DceHk3T2Ai",
        "outputId": "5380ac2f-6e54-4a7b-d2e1-13c88ffc96f5"
      },
      "source": [
        "','.join(list(map(str, data[2])))"
      ],
      "execution_count": null,
      "outputs": [
        {
          "output_type": "execute_result",
          "data": {
            "text/plain": [
              "'0.844660181886513,0.10099782620549302,0.995176205519609,0.6155252896856449,0.8783894199796791'"
            ]
          },
          "metadata": {
            "tags": []
          },
          "execution_count": 12
        }
      ]
    },
    {
      "cell_type": "code",
      "metadata": {
        "id": "lJWVGF9tT2Ai"
      },
      "source": [
        "#f = open(\"written_data.csv\", \"w\")\n",
        "\n",
        "with open(\"written_data.csv\", \"w\") as f:\n",
        "    f.write(header)\n",
        "    for line in data:\n",
        "        f.write(','.join(list(map(str, line))))\n",
        "        f.write('\\n')\n",
        "\n",
        "#f.close()\n",
        "##########"
      ],
      "execution_count": null,
      "outputs": []
    }
  ]
}