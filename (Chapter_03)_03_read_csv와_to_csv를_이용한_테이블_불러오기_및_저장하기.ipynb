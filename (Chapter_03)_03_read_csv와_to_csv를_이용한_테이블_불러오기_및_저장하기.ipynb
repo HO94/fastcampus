{
  "nbformat": 4,
  "nbformat_minor": 0,
  "metadata": {
    "kernelspec": {
      "display_name": "Python 3",
      "language": "python",
      "name": "python3"
    },
    "language_info": {
      "codemirror_mode": {
        "name": "ipython",
        "version": 3
      },
      "file_extension": ".py",
      "mimetype": "text/x-python",
      "name": "python",
      "nbconvert_exporter": "python",
      "pygments_lexer": "ipython3",
      "version": "3.6.4"
    },
    "colab": {
      "name": "(Chapter 03) 03. read_csv와 to_csv를 이용한 테이블 불러오기 및 저장하기.ipynb",
      "provenance": [],
      "include_colab_link": true
    }
  },
  "cells": [
    {
      "cell_type": "markdown",
      "metadata": {
        "id": "view-in-github",
        "colab_type": "text"
      },
      "source": [
        "<a href=\"https://colab.research.google.com/github/HO94/fastcampus/blob/main/(Chapter_03)_03_read_csv%EC%99%80_to_csv%EB%A5%BC_%EC%9D%B4%EC%9A%A9%ED%95%9C_%ED%85%8C%EC%9D%B4%EB%B8%94_%EB%B6%88%EB%9F%AC%EC%98%A4%EA%B8%B0_%EB%B0%8F_%EC%A0%80%EC%9E%A5%ED%95%98%EA%B8%B0.ipynb\" target=\"_parent\"><img src=\"https://colab.research.google.com/assets/colab-badge.svg\" alt=\"Open In Colab\"/></a>"
      ]
    },
    {
      "cell_type": "code",
      "metadata": {
        "id": "8jHfQfkpT_PD"
      },
      "source": [
        "import os\n",
        "import pandas as pd\n",
        "os.chdir(r\"C:\\fastcampus\\part-1.-데이터-핸들링\\1. 데이터 핸들링\\데이터\")"
      ],
      "execution_count": null,
      "outputs": []
    },
    {
      "cell_type": "markdown",
      "metadata": {
        "id": "LJHzFC_MT_PI"
      },
      "source": [
        "#### csv 데이터 불러오기 기초"
      ]
    },
    {
      "cell_type": "code",
      "metadata": {
        "id": "sNUfvKuXT_PJ",
        "outputId": "6d2d7f88-dbad-48da-bc57-09507d3f9659"
      },
      "source": [
        "df = pd.read_csv(\"data_reading.csv\")\n",
        "df.head()"
      ],
      "execution_count": null,
      "outputs": [
        {
          "output_type": "execute_result",
          "data": {
            "text/html": [
              "<div>\n",
              "<style scoped>\n",
              "    .dataframe tbody tr th:only-of-type {\n",
              "        vertical-align: middle;\n",
              "    }\n",
              "\n",
              "    .dataframe tbody tr th {\n",
              "        vertical-align: top;\n",
              "    }\n",
              "\n",
              "    .dataframe thead th {\n",
              "        text-align: right;\n",
              "    }\n",
              "</style>\n",
              "<table border=\"1\" class=\"dataframe\">\n",
              "  <thead>\n",
              "    <tr style=\"text-align: right;\">\n",
              "      <th></th>\n",
              "      <th>Col1</th>\n",
              "      <th>Col2</th>\n",
              "      <th>Col3</th>\n",
              "      <th>Col4</th>\n",
              "      <th>Col5</th>\n",
              "    </tr>\n",
              "  </thead>\n",
              "  <tbody>\n",
              "    <tr>\n",
              "      <th>0</th>\n",
              "      <td>0.188888</td>\n",
              "      <td>0.161053</td>\n",
              "      <td>0.150413</td>\n",
              "      <td>0.824770</td>\n",
              "      <td>0.111833</td>\n",
              "    </tr>\n",
              "    <tr>\n",
              "      <th>1</th>\n",
              "      <td>0.827719</td>\n",
              "      <td>0.161363</td>\n",
              "      <td>0.400331</td>\n",
              "      <td>0.398196</td>\n",
              "      <td>0.770696</td>\n",
              "    </tr>\n",
              "    <tr>\n",
              "      <th>2</th>\n",
              "      <td>0.844660</td>\n",
              "      <td>0.100998</td>\n",
              "      <td>0.995176</td>\n",
              "      <td>0.615525</td>\n",
              "      <td>0.878389</td>\n",
              "    </tr>\n",
              "    <tr>\n",
              "      <th>3</th>\n",
              "      <td>0.913895</td>\n",
              "      <td>0.036169</td>\n",
              "      <td>0.237840</td>\n",
              "      <td>0.187628</td>\n",
              "      <td>0.534308</td>\n",
              "    </tr>\n",
              "    <tr>\n",
              "      <th>4</th>\n",
              "      <td>0.322443</td>\n",
              "      <td>0.955010</td>\n",
              "      <td>0.340765</td>\n",
              "      <td>0.649311</td>\n",
              "      <td>0.354540</td>\n",
              "    </tr>\n",
              "  </tbody>\n",
              "</table>\n",
              "</div>"
            ],
            "text/plain": [
              "       Col1      Col2      Col3      Col4      Col5\n",
              "0  0.188888  0.161053  0.150413  0.824770  0.111833\n",
              "1  0.827719  0.161363  0.400331  0.398196  0.770696\n",
              "2  0.844660  0.100998  0.995176  0.615525  0.878389\n",
              "3  0.913895  0.036169  0.237840  0.187628  0.534308\n",
              "4  0.322443  0.955010  0.340765  0.649311  0.354540"
            ]
          },
          "metadata": {
            "tags": []
          },
          "execution_count": 2
        }
      ]
    },
    {
      "cell_type": "markdown",
      "metadata": {
        "id": "YgfOtf1iT_PK"
      },
      "source": [
        "#### tsv 데이터 불러오기"
      ]
    },
    {
      "cell_type": "code",
      "metadata": {
        "scrolled": true,
        "id": "vesXXzxsT_PK",
        "outputId": "d893c412-ec3d-4699-e23a-a7fff3b89518"
      },
      "source": [
        "df = pd.read_csv(\"data_reading_tap.txt\", sep = \"\\t\")\n",
        "df.head()"
      ],
      "execution_count": null,
      "outputs": [
        {
          "output_type": "execute_result",
          "data": {
            "text/html": [
              "<div>\n",
              "<style scoped>\n",
              "    .dataframe tbody tr th:only-of-type {\n",
              "        vertical-align: middle;\n",
              "    }\n",
              "\n",
              "    .dataframe tbody tr th {\n",
              "        vertical-align: top;\n",
              "    }\n",
              "\n",
              "    .dataframe thead th {\n",
              "        text-align: right;\n",
              "    }\n",
              "</style>\n",
              "<table border=\"1\" class=\"dataframe\">\n",
              "  <thead>\n",
              "    <tr style=\"text-align: right;\">\n",
              "      <th></th>\n",
              "      <th>Col1</th>\n",
              "      <th>Col2</th>\n",
              "      <th>Col3</th>\n",
              "      <th>Col4</th>\n",
              "      <th>Col5</th>\n",
              "    </tr>\n",
              "  </thead>\n",
              "  <tbody>\n",
              "    <tr>\n",
              "      <th>0</th>\n",
              "      <td>0.188888</td>\n",
              "      <td>0.161053</td>\n",
              "      <td>0.150413</td>\n",
              "      <td>0.824770</td>\n",
              "      <td>0.111833</td>\n",
              "    </tr>\n",
              "    <tr>\n",
              "      <th>1</th>\n",
              "      <td>0.827719</td>\n",
              "      <td>0.161363</td>\n",
              "      <td>0.400331</td>\n",
              "      <td>0.398196</td>\n",
              "      <td>0.770696</td>\n",
              "    </tr>\n",
              "    <tr>\n",
              "      <th>2</th>\n",
              "      <td>0.844660</td>\n",
              "      <td>0.100998</td>\n",
              "      <td>0.995176</td>\n",
              "      <td>0.615525</td>\n",
              "      <td>0.878389</td>\n",
              "    </tr>\n",
              "    <tr>\n",
              "      <th>3</th>\n",
              "      <td>0.913895</td>\n",
              "      <td>0.036169</td>\n",
              "      <td>0.237840</td>\n",
              "      <td>0.187628</td>\n",
              "      <td>0.534308</td>\n",
              "    </tr>\n",
              "    <tr>\n",
              "      <th>4</th>\n",
              "      <td>0.322443</td>\n",
              "      <td>0.955010</td>\n",
              "      <td>0.340765</td>\n",
              "      <td>0.649311</td>\n",
              "      <td>0.354540</td>\n",
              "    </tr>\n",
              "  </tbody>\n",
              "</table>\n",
              "</div>"
            ],
            "text/plain": [
              "       Col1      Col2      Col3      Col4      Col5\n",
              "0  0.188888  0.161053  0.150413  0.824770  0.111833\n",
              "1  0.827719  0.161363  0.400331  0.398196  0.770696\n",
              "2  0.844660  0.100998  0.995176  0.615525  0.878389\n",
              "3  0.913895  0.036169  0.237840  0.187628  0.534308\n",
              "4  0.322443  0.955010  0.340765  0.649311  0.354540"
            ]
          },
          "metadata": {
            "tags": []
          },
          "execution_count": 3
        }
      ]
    },
    {
      "cell_type": "markdown",
      "metadata": {
        "id": "TGnSPc2KT_PK"
      },
      "source": [
        "#### 헤더가 없는 데이터 불러오기"
      ]
    },
    {
      "cell_type": "code",
      "metadata": {
        "id": "XdCqNcN-T_PK",
        "outputId": "119d458c-cca2-4d83-e0e0-1f2898e32495"
      },
      "source": [
        "# header를 설정하지 않은 경우\n",
        "df = pd.read_csv(\"data_reading_without_header.csv\")\n",
        "df.head()"
      ],
      "execution_count": null,
      "outputs": [
        {
          "output_type": "execute_result",
          "data": {
            "text/html": [
              "<div>\n",
              "<style scoped>\n",
              "    .dataframe tbody tr th:only-of-type {\n",
              "        vertical-align: middle;\n",
              "    }\n",
              "\n",
              "    .dataframe tbody tr th {\n",
              "        vertical-align: top;\n",
              "    }\n",
              "\n",
              "    .dataframe thead th {\n",
              "        text-align: right;\n",
              "    }\n",
              "</style>\n",
              "<table border=\"1\" class=\"dataframe\">\n",
              "  <thead>\n",
              "    <tr style=\"text-align: right;\">\n",
              "      <th></th>\n",
              "      <th>0.188888091</th>\n",
              "      <th>0.161052929</th>\n",
              "      <th>0.15041277</th>\n",
              "      <th>0.824770215</th>\n",
              "      <th>0.111832872</th>\n",
              "    </tr>\n",
              "  </thead>\n",
              "  <tbody>\n",
              "    <tr>\n",
              "      <th>0</th>\n",
              "      <td>0.827719</td>\n",
              "      <td>0.161363</td>\n",
              "      <td>0.400331</td>\n",
              "      <td>0.398196</td>\n",
              "      <td>0.770696</td>\n",
              "    </tr>\n",
              "    <tr>\n",
              "      <th>1</th>\n",
              "      <td>0.844660</td>\n",
              "      <td>0.100998</td>\n",
              "      <td>0.995176</td>\n",
              "      <td>0.615525</td>\n",
              "      <td>0.878389</td>\n",
              "    </tr>\n",
              "    <tr>\n",
              "      <th>2</th>\n",
              "      <td>0.913895</td>\n",
              "      <td>0.036169</td>\n",
              "      <td>0.237840</td>\n",
              "      <td>0.187628</td>\n",
              "      <td>0.534308</td>\n",
              "    </tr>\n",
              "    <tr>\n",
              "      <th>3</th>\n",
              "      <td>0.322443</td>\n",
              "      <td>0.955010</td>\n",
              "      <td>0.340765</td>\n",
              "      <td>0.649311</td>\n",
              "      <td>0.354540</td>\n",
              "    </tr>\n",
              "    <tr>\n",
              "      <th>4</th>\n",
              "      <td>0.330625</td>\n",
              "      <td>0.672039</td>\n",
              "      <td>0.109381</td>\n",
              "      <td>0.075682</td>\n",
              "      <td>0.916931</td>\n",
              "    </tr>\n",
              "  </tbody>\n",
              "</table>\n",
              "</div>"
            ],
            "text/plain": [
              "   0.188888091  0.161052929  0.15041277  0.824770215  0.111832872\n",
              "0     0.827719     0.161363    0.400331     0.398196     0.770696\n",
              "1     0.844660     0.100998    0.995176     0.615525     0.878389\n",
              "2     0.913895     0.036169    0.237840     0.187628     0.534308\n",
              "3     0.322443     0.955010    0.340765     0.649311     0.354540\n",
              "4     0.330625     0.672039    0.109381     0.075682     0.916931"
            ]
          },
          "metadata": {
            "tags": []
          },
          "execution_count": 5
        }
      ]
    },
    {
      "cell_type": "code",
      "metadata": {
        "id": "PUfWqjpVT_PL",
        "outputId": "0153a49a-a933-4b82-b195-76087641e011"
      },
      "source": [
        "df = pd.read_csv(\"data_reading_without_header.csv\", header = None)\n",
        "df.head()"
      ],
      "execution_count": null,
      "outputs": [
        {
          "output_type": "execute_result",
          "data": {
            "text/html": [
              "<div>\n",
              "<style scoped>\n",
              "    .dataframe tbody tr th:only-of-type {\n",
              "        vertical-align: middle;\n",
              "    }\n",
              "\n",
              "    .dataframe tbody tr th {\n",
              "        vertical-align: top;\n",
              "    }\n",
              "\n",
              "    .dataframe thead th {\n",
              "        text-align: right;\n",
              "    }\n",
              "</style>\n",
              "<table border=\"1\" class=\"dataframe\">\n",
              "  <thead>\n",
              "    <tr style=\"text-align: right;\">\n",
              "      <th></th>\n",
              "      <th>0</th>\n",
              "      <th>1</th>\n",
              "      <th>2</th>\n",
              "      <th>3</th>\n",
              "      <th>4</th>\n",
              "    </tr>\n",
              "  </thead>\n",
              "  <tbody>\n",
              "    <tr>\n",
              "      <th>0</th>\n",
              "      <td>0.188888</td>\n",
              "      <td>0.161053</td>\n",
              "      <td>0.150413</td>\n",
              "      <td>0.824770</td>\n",
              "      <td>0.111833</td>\n",
              "    </tr>\n",
              "    <tr>\n",
              "      <th>1</th>\n",
              "      <td>0.827719</td>\n",
              "      <td>0.161363</td>\n",
              "      <td>0.400331</td>\n",
              "      <td>0.398196</td>\n",
              "      <td>0.770696</td>\n",
              "    </tr>\n",
              "    <tr>\n",
              "      <th>2</th>\n",
              "      <td>0.844660</td>\n",
              "      <td>0.100998</td>\n",
              "      <td>0.995176</td>\n",
              "      <td>0.615525</td>\n",
              "      <td>0.878389</td>\n",
              "    </tr>\n",
              "    <tr>\n",
              "      <th>3</th>\n",
              "      <td>0.913895</td>\n",
              "      <td>0.036169</td>\n",
              "      <td>0.237840</td>\n",
              "      <td>0.187628</td>\n",
              "      <td>0.534308</td>\n",
              "    </tr>\n",
              "    <tr>\n",
              "      <th>4</th>\n",
              "      <td>0.322443</td>\n",
              "      <td>0.955010</td>\n",
              "      <td>0.340765</td>\n",
              "      <td>0.649311</td>\n",
              "      <td>0.354540</td>\n",
              "    </tr>\n",
              "  </tbody>\n",
              "</table>\n",
              "</div>"
            ],
            "text/plain": [
              "          0         1         2         3         4\n",
              "0  0.188888  0.161053  0.150413  0.824770  0.111833\n",
              "1  0.827719  0.161363  0.400331  0.398196  0.770696\n",
              "2  0.844660  0.100998  0.995176  0.615525  0.878389\n",
              "3  0.913895  0.036169  0.237840  0.187628  0.534308\n",
              "4  0.322443  0.955010  0.340765  0.649311  0.354540"
            ]
          },
          "metadata": {
            "tags": []
          },
          "execution_count": 6
        }
      ]
    },
    {
      "cell_type": "code",
      "metadata": {
        "id": "w5mEcrTIT_PL",
        "outputId": "cb553f5b-3241-4189-b9e6-20fd84e72937"
      },
      "source": [
        "df.columns = ['X1', 'X2', 'X3', 'X4', 'X5']\n",
        "df.head() # 컬럼명 바꾸기"
      ],
      "execution_count": null,
      "outputs": [
        {
          "output_type": "execute_result",
          "data": {
            "text/html": [
              "<div>\n",
              "<style scoped>\n",
              "    .dataframe tbody tr th:only-of-type {\n",
              "        vertical-align: middle;\n",
              "    }\n",
              "\n",
              "    .dataframe tbody tr th {\n",
              "        vertical-align: top;\n",
              "    }\n",
              "\n",
              "    .dataframe thead th {\n",
              "        text-align: right;\n",
              "    }\n",
              "</style>\n",
              "<table border=\"1\" class=\"dataframe\">\n",
              "  <thead>\n",
              "    <tr style=\"text-align: right;\">\n",
              "      <th></th>\n",
              "      <th>X1</th>\n",
              "      <th>X2</th>\n",
              "      <th>X3</th>\n",
              "      <th>X4</th>\n",
              "      <th>X5</th>\n",
              "    </tr>\n",
              "  </thead>\n",
              "  <tbody>\n",
              "    <tr>\n",
              "      <th>0</th>\n",
              "      <td>0.188888</td>\n",
              "      <td>0.161053</td>\n",
              "      <td>0.150413</td>\n",
              "      <td>0.824770</td>\n",
              "      <td>0.111833</td>\n",
              "    </tr>\n",
              "    <tr>\n",
              "      <th>1</th>\n",
              "      <td>0.827719</td>\n",
              "      <td>0.161363</td>\n",
              "      <td>0.400331</td>\n",
              "      <td>0.398196</td>\n",
              "      <td>0.770696</td>\n",
              "    </tr>\n",
              "    <tr>\n",
              "      <th>2</th>\n",
              "      <td>0.844660</td>\n",
              "      <td>0.100998</td>\n",
              "      <td>0.995176</td>\n",
              "      <td>0.615525</td>\n",
              "      <td>0.878389</td>\n",
              "    </tr>\n",
              "    <tr>\n",
              "      <th>3</th>\n",
              "      <td>0.913895</td>\n",
              "      <td>0.036169</td>\n",
              "      <td>0.237840</td>\n",
              "      <td>0.187628</td>\n",
              "      <td>0.534308</td>\n",
              "    </tr>\n",
              "    <tr>\n",
              "      <th>4</th>\n",
              "      <td>0.322443</td>\n",
              "      <td>0.955010</td>\n",
              "      <td>0.340765</td>\n",
              "      <td>0.649311</td>\n",
              "      <td>0.354540</td>\n",
              "    </tr>\n",
              "  </tbody>\n",
              "</table>\n",
              "</div>"
            ],
            "text/plain": [
              "         X1        X2        X3        X4        X5\n",
              "0  0.188888  0.161053  0.150413  0.824770  0.111833\n",
              "1  0.827719  0.161363  0.400331  0.398196  0.770696\n",
              "2  0.844660  0.100998  0.995176  0.615525  0.878389\n",
              "3  0.913895  0.036169  0.237840  0.187628  0.534308\n",
              "4  0.322443  0.955010  0.340765  0.649311  0.354540"
            ]
          },
          "metadata": {
            "tags": []
          },
          "execution_count": 7
        }
      ]
    },
    {
      "cell_type": "markdown",
      "metadata": {
        "id": "grKiooCRT_PL"
      },
      "source": [
        "#### 큰 규모의 데이터 불러오기"
      ]
    },
    {
      "cell_type": "code",
      "metadata": {
        "id": "QpCP-aK1T_PL",
        "outputId": "6ae15f14-5d3a-4bbc-8621-efd23cffb591"
      },
      "source": [
        "df = pd.read_csv(\"large_data_with_ID.csv\",\n",
        "                 usecols = [0, 1, 5, 10], # ['ID', 'X1', 'X5', 'X10']으로 불러와도 무방\n",
        "                index_col = 'ID', # usecols을 사용하는 경우, index_col을 반드시 포함시켜야 함\n",
        "                nrows = 1000)\n",
        "\n",
        "df.head()"
      ],
      "execution_count": null,
      "outputs": [
        {
          "output_type": "execute_result",
          "data": {
            "text/html": [
              "<div>\n",
              "<style scoped>\n",
              "    .dataframe tbody tr th:only-of-type {\n",
              "        vertical-align: middle;\n",
              "    }\n",
              "\n",
              "    .dataframe tbody tr th {\n",
              "        vertical-align: top;\n",
              "    }\n",
              "\n",
              "    .dataframe thead th {\n",
              "        text-align: right;\n",
              "    }\n",
              "</style>\n",
              "<table border=\"1\" class=\"dataframe\">\n",
              "  <thead>\n",
              "    <tr style=\"text-align: right;\">\n",
              "      <th></th>\n",
              "      <th>X1</th>\n",
              "      <th>X5</th>\n",
              "      <th>X10</th>\n",
              "    </tr>\n",
              "    <tr>\n",
              "      <th>ID</th>\n",
              "      <th></th>\n",
              "      <th></th>\n",
              "      <th></th>\n",
              "    </tr>\n",
              "  </thead>\n",
              "  <tbody>\n",
              "    <tr>\n",
              "      <th>ID1</th>\n",
              "      <td>21</td>\n",
              "      <td>3</td>\n",
              "      <td>60</td>\n",
              "    </tr>\n",
              "    <tr>\n",
              "      <th>ID2</th>\n",
              "      <td>0</td>\n",
              "      <td>69</td>\n",
              "      <td>98</td>\n",
              "    </tr>\n",
              "    <tr>\n",
              "      <th>ID3</th>\n",
              "      <td>75</td>\n",
              "      <td>69</td>\n",
              "      <td>49</td>\n",
              "    </tr>\n",
              "    <tr>\n",
              "      <th>ID4</th>\n",
              "      <td>66</td>\n",
              "      <td>86</td>\n",
              "      <td>22</td>\n",
              "    </tr>\n",
              "    <tr>\n",
              "      <th>ID5</th>\n",
              "      <td>33</td>\n",
              "      <td>57</td>\n",
              "      <td>59</td>\n",
              "    </tr>\n",
              "  </tbody>\n",
              "</table>\n",
              "</div>"
            ],
            "text/plain": [
              "     X1  X5  X10\n",
              "ID              \n",
              "ID1  21   3   60\n",
              "ID2   0  69   98\n",
              "ID3  75  69   49\n",
              "ID4  66  86   22\n",
              "ID5  33  57   59"
            ]
          },
          "metadata": {
            "tags": []
          },
          "execution_count": 8
        }
      ]
    },
    {
      "cell_type": "code",
      "metadata": {
        "id": "HXGN3JtwT_PM",
        "outputId": "f68ab632-36fb-4e39-a7d5-b60d77eb0eba"
      },
      "source": [
        "df.shape"
      ],
      "execution_count": null,
      "outputs": [
        {
          "output_type": "execute_result",
          "data": {
            "text/plain": [
              "(1000, 3)"
            ]
          },
          "metadata": {
            "tags": []
          },
          "execution_count": 24
        }
      ]
    },
    {
      "cell_type": "markdown",
      "metadata": {
        "id": "PxLtXziBT_PM"
      },
      "source": [
        "#### to_csv를 이용한 데이터 저장하기"
      ]
    },
    {
      "cell_type": "code",
      "metadata": {
        "id": "pRT8NrdIT_PM",
        "outputId": "ddec5d9f-a491-452a-b457-4a90760bb07b"
      },
      "source": [
        "df = pd.DataFrame({\"A\":[1,2,3],\n",
        "                  \"B\":[4,5,6]},\n",
        "                  index = ['a', 'b', 'c'])\n",
        "\n",
        "df"
      ],
      "execution_count": null,
      "outputs": [
        {
          "output_type": "execute_result",
          "data": {
            "text/html": [
              "<div>\n",
              "<style scoped>\n",
              "    .dataframe tbody tr th:only-of-type {\n",
              "        vertical-align: middle;\n",
              "    }\n",
              "\n",
              "    .dataframe tbody tr th {\n",
              "        vertical-align: top;\n",
              "    }\n",
              "\n",
              "    .dataframe thead th {\n",
              "        text-align: right;\n",
              "    }\n",
              "</style>\n",
              "<table border=\"1\" class=\"dataframe\">\n",
              "  <thead>\n",
              "    <tr style=\"text-align: right;\">\n",
              "      <th></th>\n",
              "      <th>A</th>\n",
              "      <th>B</th>\n",
              "    </tr>\n",
              "  </thead>\n",
              "  <tbody>\n",
              "    <tr>\n",
              "      <th>a</th>\n",
              "      <td>1</td>\n",
              "      <td>4</td>\n",
              "    </tr>\n",
              "    <tr>\n",
              "      <th>b</th>\n",
              "      <td>2</td>\n",
              "      <td>5</td>\n",
              "    </tr>\n",
              "    <tr>\n",
              "      <th>c</th>\n",
              "      <td>3</td>\n",
              "      <td>6</td>\n",
              "    </tr>\n",
              "  </tbody>\n",
              "</table>\n",
              "</div>"
            ],
            "text/plain": [
              "   A  B\n",
              "a  1  4\n",
              "b  2  5\n",
              "c  3  6"
            ]
          },
          "metadata": {
            "tags": []
          },
          "execution_count": 9
        }
      ]
    },
    {
      "cell_type": "code",
      "metadata": {
        "id": "DfHcDyjlT_PM"
      },
      "source": [
        "df.to_csv(\"to_csv를 이용한 데이터 저장_인덱스미포함.csv\", sep = \",\", index = False)"
      ],
      "execution_count": null,
      "outputs": []
    },
    {
      "cell_type": "code",
      "metadata": {
        "id": "x7B03zzbT_PN"
      },
      "source": [
        "df.to_csv(\"to_csv를 이용한 데이터 저장_인덱스포함.csv\", sep = \",\", index = True)"
      ],
      "execution_count": null,
      "outputs": []
    }
  ]
}