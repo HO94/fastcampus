{
  "nbformat": 4,
  "nbformat_minor": 0,
  "metadata": {
    "kernelspec": {
      "display_name": "Python 3",
      "language": "python",
      "name": "python3"
    },
    "language_info": {
      "codemirror_mode": {
        "name": "ipython",
        "version": 3
      },
      "file_extension": ".py",
      "mimetype": "text/x-python",
      "name": "python",
      "nbconvert_exporter": "python",
      "pygments_lexer": "ipython3",
      "version": "3.6.4"
    },
    "colab": {
      "name": "(Chapter 03) 04. read_excel과 to_excel을 이용한 테이블 불러오기 및 저장하기.ipynb",
      "provenance": [],
      "include_colab_link": true
    }
  },
  "cells": [
    {
      "cell_type": "markdown",
      "metadata": {
        "id": "view-in-github",
        "colab_type": "text"
      },
      "source": [
        "<a href=\"https://colab.research.google.com/github/HO94/fastcampus/blob/main/(Chapter_03)_04_read_excel%EA%B3%BC_to_excel%EC%9D%84_%EC%9D%B4%EC%9A%A9%ED%95%9C_%ED%85%8C%EC%9D%B4%EB%B8%94_%EB%B6%88%EB%9F%AC%EC%98%A4%EA%B8%B0_%EB%B0%8F_%EC%A0%80%EC%9E%A5%ED%95%98%EA%B8%B0.ipynb\" target=\"_parent\"><img src=\"https://colab.research.google.com/assets/colab-badge.svg\" alt=\"Open In Colab\"/></a>"
      ]
    },
    {
      "cell_type": "code",
      "metadata": {
        "id": "SzE0u1lHW0KX"
      },
      "source": [
        "import os\n",
        "import pandas as pd\n",
        "os.chdir(r\"C:\\fastcampus\\part-1.-데이터-핸들링\\1. 데이터 핸들링\\데이터\")"
      ],
      "execution_count": null,
      "outputs": []
    },
    {
      "cell_type": "markdown",
      "metadata": {
        "id": "dSpP9BPJW0Kc"
      },
      "source": [
        "#### read_excel을 사용한 데이터 불러오기 기초"
      ]
    },
    {
      "cell_type": "code",
      "metadata": {
        "id": "SwmIXtFXW0Kc",
        "outputId": "29a5e10c-c5c3-43f0-a457-2cfee85b06fd"
      },
      "source": [
        "# 시트를 정의하지 않으면, 첫 번째 시트가 불러와짐\n",
        "df = pd.read_excel(\"data_reading.xlsx\")\n",
        "df"
      ],
      "execution_count": null,
      "outputs": [
        {
          "output_type": "execute_result",
          "data": {
            "text/html": [
              "<div>\n",
              "<style scoped>\n",
              "    .dataframe tbody tr th:only-of-type {\n",
              "        vertical-align: middle;\n",
              "    }\n",
              "\n",
              "    .dataframe tbody tr th {\n",
              "        vertical-align: top;\n",
              "    }\n",
              "\n",
              "    .dataframe thead th {\n",
              "        text-align: right;\n",
              "    }\n",
              "</style>\n",
              "<table border=\"1\" class=\"dataframe\">\n",
              "  <thead>\n",
              "    <tr style=\"text-align: right;\">\n",
              "      <th></th>\n",
              "      <th>첫번째 시트</th>\n",
              "      <th>값없음</th>\n",
              "    </tr>\n",
              "  </thead>\n",
              "  <tbody>\n",
              "    <tr>\n",
              "      <th>0</th>\n",
              "      <td>첫번째 시트</td>\n",
              "      <td>값없음</td>\n",
              "    </tr>\n",
              "  </tbody>\n",
              "</table>\n",
              "</div>"
            ],
            "text/plain": [
              "   첫번째 시트  값없음\n",
              "0  첫번째 시트  값없음"
            ]
          },
          "metadata": {
            "tags": []
          },
          "execution_count": 2
        }
      ]
    },
    {
      "cell_type": "code",
      "metadata": {
        "id": "-4cTdvi8W0Kd",
        "outputId": "a356af3f-c94c-4a44-ef2f-5326e11e0083"
      },
      "source": [
        "df = pd.read_excel(\"data_reading.xlsx\", sheet_name = 'target_sheet')\n",
        "df.head()"
      ],
      "execution_count": null,
      "outputs": [
        {
          "output_type": "execute_result",
          "data": {
            "text/html": [
              "<div>\n",
              "<style scoped>\n",
              "    .dataframe tbody tr th:only-of-type {\n",
              "        vertical-align: middle;\n",
              "    }\n",
              "\n",
              "    .dataframe tbody tr th {\n",
              "        vertical-align: top;\n",
              "    }\n",
              "\n",
              "    .dataframe thead th {\n",
              "        text-align: right;\n",
              "    }\n",
              "</style>\n",
              "<table border=\"1\" class=\"dataframe\">\n",
              "  <thead>\n",
              "    <tr style=\"text-align: right;\">\n",
              "      <th></th>\n",
              "      <th>Col1</th>\n",
              "      <th>Col2</th>\n",
              "      <th>Col3</th>\n",
              "      <th>Col4</th>\n",
              "      <th>Col5</th>\n",
              "    </tr>\n",
              "  </thead>\n",
              "  <tbody>\n",
              "    <tr>\n",
              "      <th>0</th>\n",
              "      <td>0.188888</td>\n",
              "      <td>0.161053</td>\n",
              "      <td>0.150413</td>\n",
              "      <td>0.824770</td>\n",
              "      <td>0.111833</td>\n",
              "    </tr>\n",
              "    <tr>\n",
              "      <th>1</th>\n",
              "      <td>0.827719</td>\n",
              "      <td>0.161363</td>\n",
              "      <td>0.400331</td>\n",
              "      <td>0.398196</td>\n",
              "      <td>0.770696</td>\n",
              "    </tr>\n",
              "    <tr>\n",
              "      <th>2</th>\n",
              "      <td>0.844660</td>\n",
              "      <td>0.100998</td>\n",
              "      <td>0.995176</td>\n",
              "      <td>0.615525</td>\n",
              "      <td>0.878389</td>\n",
              "    </tr>\n",
              "    <tr>\n",
              "      <th>3</th>\n",
              "      <td>0.913895</td>\n",
              "      <td>0.036169</td>\n",
              "      <td>0.237840</td>\n",
              "      <td>0.187628</td>\n",
              "      <td>0.534308</td>\n",
              "    </tr>\n",
              "    <tr>\n",
              "      <th>4</th>\n",
              "      <td>0.322443</td>\n",
              "      <td>0.955010</td>\n",
              "      <td>0.340765</td>\n",
              "      <td>0.649311</td>\n",
              "      <td>0.354540</td>\n",
              "    </tr>\n",
              "  </tbody>\n",
              "</table>\n",
              "</div>"
            ],
            "text/plain": [
              "       Col1      Col2      Col3      Col4      Col5\n",
              "0  0.188888  0.161053  0.150413  0.824770  0.111833\n",
              "1  0.827719  0.161363  0.400331  0.398196  0.770696\n",
              "2  0.844660  0.100998  0.995176  0.615525  0.878389\n",
              "3  0.913895  0.036169  0.237840  0.187628  0.534308\n",
              "4  0.322443  0.955010  0.340765  0.649311  0.354540"
            ]
          },
          "metadata": {
            "tags": []
          },
          "execution_count": 3
        }
      ]
    },
    {
      "cell_type": "markdown",
      "metadata": {
        "id": "_Vva4PxUW0Kd"
      },
      "source": [
        "#### 필요한 부분의 데이터 불러오기"
      ]
    },
    {
      "cell_type": "markdown",
      "metadata": {
        "id": "Qm6KQdBIW0Ke"
      },
      "source": [
        "![image.png](attachment:image.png)"
      ]
    },
    {
      "cell_type": "code",
      "metadata": {
        "id": "xbu2CjbrW0Ke",
        "outputId": "f7029344-618f-47cd-ac72-a70f9fcaa872"
      },
      "source": [
        "df = pd.read_excel(\"월별매출데이터.xlsx\", sheet_name = '6월', skiprows = range(6))\n",
        "df = df.iloc[:, 1:] # 첫 번째 컬럼이 불필요하므로 제거\n",
        "df.head()"
      ],
      "execution_count": null,
      "outputs": [
        {
          "output_type": "execute_result",
          "data": {
            "text/html": [
              "<div>\n",
              "<style scoped>\n",
              "    .dataframe tbody tr th:only-of-type {\n",
              "        vertical-align: middle;\n",
              "    }\n",
              "\n",
              "    .dataframe tbody tr th {\n",
              "        vertical-align: top;\n",
              "    }\n",
              "\n",
              "    .dataframe thead th {\n",
              "        text-align: right;\n",
              "    }\n",
              "</style>\n",
              "<table border=\"1\" class=\"dataframe\">\n",
              "  <thead>\n",
              "    <tr style=\"text-align: right;\">\n",
              "      <th></th>\n",
              "      <th>일자</th>\n",
              "      <th>지점</th>\n",
              "      <th>품명</th>\n",
              "      <th>수량</th>\n",
              "      <th>주문인 ID</th>\n",
              "      <th>수령 주소</th>\n",
              "      <th>주문 상태</th>\n",
              "      <th>결제 수단</th>\n",
              "    </tr>\n",
              "  </thead>\n",
              "  <tbody>\n",
              "    <tr>\n",
              "      <th>0</th>\n",
              "      <td>2018.6.1</td>\n",
              "      <td>지점1</td>\n",
              "      <td>제품C</td>\n",
              "      <td>8</td>\n",
              "      <td>C-228</td>\n",
              "      <td>서울특별시 서대문구 홍제동</td>\n",
              "      <td>주문완료</td>\n",
              "      <td>인터넷뱅킹</td>\n",
              "    </tr>\n",
              "    <tr>\n",
              "      <th>1</th>\n",
              "      <td>2018.6.1</td>\n",
              "      <td>지점4</td>\n",
              "      <td>제품F</td>\n",
              "      <td>8</td>\n",
              "      <td>C-243</td>\n",
              "      <td>서울특별시 송파구 마천동</td>\n",
              "      <td>주문완료</td>\n",
              "      <td>인터넷뱅킹</td>\n",
              "    </tr>\n",
              "    <tr>\n",
              "      <th>2</th>\n",
              "      <td>2018.6.1</td>\n",
              "      <td>지점4</td>\n",
              "      <td>제품D</td>\n",
              "      <td>3</td>\n",
              "      <td>C-191</td>\n",
              "      <td>서울특별시 노원구 월계동</td>\n",
              "      <td>배송중</td>\n",
              "      <td>신용카드</td>\n",
              "    </tr>\n",
              "    <tr>\n",
              "      <th>3</th>\n",
              "      <td>2018.6.1</td>\n",
              "      <td>지점2</td>\n",
              "      <td>제품D</td>\n",
              "      <td>0</td>\n",
              "      <td>C-271</td>\n",
              "      <td>서울특별시 중구 회현동3가</td>\n",
              "      <td>배송완료</td>\n",
              "      <td>휴대폰결제</td>\n",
              "    </tr>\n",
              "    <tr>\n",
              "      <th>4</th>\n",
              "      <td>2018.6.1</td>\n",
              "      <td>지점4</td>\n",
              "      <td>제품D</td>\n",
              "      <td>8</td>\n",
              "      <td>C-244</td>\n",
              "      <td>서울특별시 중구 서소문동</td>\n",
              "      <td>배송완료</td>\n",
              "      <td>인터넷뱅킹</td>\n",
              "    </tr>\n",
              "  </tbody>\n",
              "</table>\n",
              "</div>"
            ],
            "text/plain": [
              "         일자   지점   품명  수량 주문인 ID           수령 주소 주문 상태  결제 수단\n",
              "0  2018.6.1  지점1  제품C   8  C-228  서울특별시 서대문구 홍제동  주문완료  인터넷뱅킹\n",
              "1  2018.6.1  지점4  제품F   8  C-243   서울특별시 송파구 마천동  주문완료  인터넷뱅킹\n",
              "2  2018.6.1  지점4  제품D   3  C-191   서울특별시 노원구 월계동   배송중   신용카드\n",
              "3  2018.6.1  지점2  제품D   0  C-271  서울특별시 중구 회현동3가  배송완료  휴대폰결제\n",
              "4  2018.6.1  지점4  제품D   8  C-244   서울특별시 중구 서소문동  배송완료  인터넷뱅킹"
            ]
          },
          "metadata": {
            "tags": []
          },
          "execution_count": 4
        }
      ]
    },
    {
      "cell_type": "markdown",
      "metadata": {
        "id": "NefgrmqsW0Ke"
      },
      "source": [
        "#### to_excel을 사용한 데이터 저장"
      ]
    },
    {
      "cell_type": "code",
      "metadata": {
        "id": "yEDgmxz1W0Ke"
      },
      "source": [
        "df1 = pd.DataFrame({\"A\":[1,2,3,4], \"B\":[5,6,7,8]})\n",
        "df2 = pd.DataFrame({\"A\":[9,10,11,12], \"B\":[13,14,15,16]})"
      ],
      "execution_count": null,
      "outputs": []
    },
    {
      "cell_type": "code",
      "metadata": {
        "id": "YfhuYvq_W0Kf"
      },
      "source": [
        "with pd.ExcelWriter('written_excel.xlsx') as writer:  \n",
        "    df1.to_excel(writer, sheet_name='First')\n",
        "    df2.to_excel(writer, sheet_name='Second')\n",
        "    \n",
        "### "
      ],
      "execution_count": null,
      "outputs": []
    }
  ]
}